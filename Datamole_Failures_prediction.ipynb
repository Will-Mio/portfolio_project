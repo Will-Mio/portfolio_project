{
 "cells": [
  {
   "cell_type": "markdown",
   "id": "feb49ea4",
   "metadata": {},
   "source": [
    "# AirPump failures\n",
    "\n",
    "A customer is manufacturing devices containing air pumps that provide pressure for a machine cycle. Ideally, the air pressure rises sharply and remains stable throughout the machine's cycle, where it drops sharply. However, it can happen that the air pressure drops due to pump failure, or the air pressure rises or drops slowly.\n",
    "\n",
    "The goal of the project is to detect a pump failure.\n",
    "The typical air pump failure is a temporary pressure decrease in the first half of the cycle.\n",
    "\n",
    "\n",
    "## Data structure\n",
    "\n",
    "\n",
    "### Data\n",
    "\n",
    "The data consists of the following columns (in this particular order):\n",
    "\n",
    "- MachineId - Id of the machine\n",
    "- MeasurementId - Id of the measured cycle\n",
    "- Pressure - Air pressure (kPa)\n",
    "\n",
    "The data does not contain timestamps, but for each machine and measured cycle combination, observations (i.e. rows) of the pressure values are ordered by time, and the time intervals between individual observations are always the same.\n",
    "\n",
    "### Labels\n",
    "\n",
    "The labels consists of the following columns (in this particular order):\n",
    "\n",
    "- MachineId - Id of the machine\n",
    "- MeasurementId - Id of the measured cycle\n",
    "- PumpFailed - True if pump failed\n",
    "- SlowStart - True if the pressure rised slowly\n",
    "- SlowEnd - True if the pressure dropped slowly"
   ]
  },
  {
   "cell_type": "code",
   "execution_count": 1,
   "id": "4bc9f370",
   "metadata": {},
   "outputs": [],
   "source": [
    "import pandas as pd\n",
    "import numpy as np\n",
    "import matplotlib.pyplot as plt\n",
    "import seaborn as sns"
   ]
  },
  {
   "cell_type": "code",
   "execution_count": 2,
   "id": "7ef3f73c",
   "metadata": {},
   "outputs": [],
   "source": [
    "#data loading\n",
    "data = pd.read_parquet(\"data/data.parquet\")\n",
    "labels = pd.read_csv(\"data/labels.csv\")"
   ]
  },
  {
   "cell_type": "markdown",
   "id": "0b5f0e2f",
   "metadata": {},
   "source": [
    "### Data Exploration"
   ]
  },
  {
   "cell_type": "code",
   "execution_count": 3,
   "id": "ae3877fa",
   "metadata": {},
   "outputs": [
    {
     "data": {
      "text/html": [
       "<div>\n",
       "<style scoped>\n",
       "    .dataframe tbody tr th:only-of-type {\n",
       "        vertical-align: middle;\n",
       "    }\n",
       "\n",
       "    .dataframe tbody tr th {\n",
       "        vertical-align: top;\n",
       "    }\n",
       "\n",
       "    .dataframe thead th {\n",
       "        text-align: right;\n",
       "    }\n",
       "</style>\n",
       "<table border=\"1\" class=\"dataframe\">\n",
       "  <thead>\n",
       "    <tr style=\"text-align: right;\">\n",
       "      <th></th>\n",
       "      <th>MachineId</th>\n",
       "      <th>MeasurementId</th>\n",
       "      <th>Pressure</th>\n",
       "    </tr>\n",
       "  </thead>\n",
       "  <tbody>\n",
       "    <tr>\n",
       "      <th>0</th>\n",
       "      <td>0_0_0</td>\n",
       "      <td>0</td>\n",
       "      <td>0.0</td>\n",
       "    </tr>\n",
       "    <tr>\n",
       "      <th>1</th>\n",
       "      <td>0_0_0</td>\n",
       "      <td>0</td>\n",
       "      <td>0.0</td>\n",
       "    </tr>\n",
       "    <tr>\n",
       "      <th>2</th>\n",
       "      <td>0_0_0</td>\n",
       "      <td>0</td>\n",
       "      <td>0.0</td>\n",
       "    </tr>\n",
       "    <tr>\n",
       "      <th>3</th>\n",
       "      <td>0_0_0</td>\n",
       "      <td>0</td>\n",
       "      <td>0.0</td>\n",
       "    </tr>\n",
       "    <tr>\n",
       "      <th>4</th>\n",
       "      <td>0_0_0</td>\n",
       "      <td>0</td>\n",
       "      <td>0.0</td>\n",
       "    </tr>\n",
       "    <tr>\n",
       "      <th>...</th>\n",
       "      <td>...</td>\n",
       "      <td>...</td>\n",
       "      <td>...</td>\n",
       "    </tr>\n",
       "    <tr>\n",
       "      <th>18466359</th>\n",
       "      <td>10_0_3</td>\n",
       "      <td>8834</td>\n",
       "      <td>0.0</td>\n",
       "    </tr>\n",
       "    <tr>\n",
       "      <th>18466360</th>\n",
       "      <td>10_0_3</td>\n",
       "      <td>8834</td>\n",
       "      <td>0.0</td>\n",
       "    </tr>\n",
       "    <tr>\n",
       "      <th>18466361</th>\n",
       "      <td>10_0_3</td>\n",
       "      <td>8834</td>\n",
       "      <td>0.0</td>\n",
       "    </tr>\n",
       "    <tr>\n",
       "      <th>18466362</th>\n",
       "      <td>10_0_3</td>\n",
       "      <td>8834</td>\n",
       "      <td>0.0</td>\n",
       "    </tr>\n",
       "    <tr>\n",
       "      <th>18466363</th>\n",
       "      <td>10_0_3</td>\n",
       "      <td>8834</td>\n",
       "      <td>0.0</td>\n",
       "    </tr>\n",
       "  </tbody>\n",
       "</table>\n",
       "<p>18466364 rows × 3 columns</p>\n",
       "</div>"
      ],
      "text/plain": [
       "         MachineId  MeasurementId  Pressure\n",
       "0            0_0_0              0       0.0\n",
       "1            0_0_0              0       0.0\n",
       "2            0_0_0              0       0.0\n",
       "3            0_0_0              0       0.0\n",
       "4            0_0_0              0       0.0\n",
       "...            ...            ...       ...\n",
       "18466359    10_0_3           8834       0.0\n",
       "18466360    10_0_3           8834       0.0\n",
       "18466361    10_0_3           8834       0.0\n",
       "18466362    10_0_3           8834       0.0\n",
       "18466363    10_0_3           8834       0.0\n",
       "\n",
       "[18466364 rows x 3 columns]"
      ]
     },
     "execution_count": 3,
     "metadata": {},
     "output_type": "execute_result"
    }
   ],
   "source": [
    "data"
   ]
  },
  {
   "cell_type": "code",
   "execution_count": 4,
   "id": "86292232",
   "metadata": {},
   "outputs": [
    {
     "data": {
      "text/html": [
       "<div>\n",
       "<style scoped>\n",
       "    .dataframe tbody tr th:only-of-type {\n",
       "        vertical-align: middle;\n",
       "    }\n",
       "\n",
       "    .dataframe tbody tr th {\n",
       "        vertical-align: top;\n",
       "    }\n",
       "\n",
       "    .dataframe thead th {\n",
       "        text-align: right;\n",
       "    }\n",
       "</style>\n",
       "<table border=\"1\" class=\"dataframe\">\n",
       "  <thead>\n",
       "    <tr style=\"text-align: right;\">\n",
       "      <th></th>\n",
       "      <th>MachineId</th>\n",
       "      <th>MeasurementId</th>\n",
       "      <th>PumpFailed</th>\n",
       "      <th>SlowStart</th>\n",
       "      <th>SlowEnd</th>\n",
       "    </tr>\n",
       "  </thead>\n",
       "  <tbody>\n",
       "    <tr>\n",
       "      <th>0</th>\n",
       "      <td>0_0_0</td>\n",
       "      <td>0</td>\n",
       "      <td>False</td>\n",
       "      <td>False</td>\n",
       "      <td>False</td>\n",
       "    </tr>\n",
       "    <tr>\n",
       "      <th>1</th>\n",
       "      <td>0_0_1</td>\n",
       "      <td>-1</td>\n",
       "      <td>NaN</td>\n",
       "      <td>NaN</td>\n",
       "      <td>NaN</td>\n",
       "    </tr>\n",
       "    <tr>\n",
       "      <th>2</th>\n",
       "      <td>0_0_2</td>\n",
       "      <td>0</td>\n",
       "      <td>False</td>\n",
       "      <td>False</td>\n",
       "      <td>False</td>\n",
       "    </tr>\n",
       "    <tr>\n",
       "      <th>3</th>\n",
       "      <td>0_0_3</td>\n",
       "      <td>0</td>\n",
       "      <td>True</td>\n",
       "      <td>False</td>\n",
       "      <td>False</td>\n",
       "    </tr>\n",
       "    <tr>\n",
       "      <th>4</th>\n",
       "      <td>0_1_0</td>\n",
       "      <td>-1</td>\n",
       "      <td>NaN</td>\n",
       "      <td>NaN</td>\n",
       "      <td>NaN</td>\n",
       "    </tr>\n",
       "    <tr>\n",
       "      <th>...</th>\n",
       "      <td>...</td>\n",
       "      <td>...</td>\n",
       "      <td>...</td>\n",
       "      <td>...</td>\n",
       "      <td>...</td>\n",
       "    </tr>\n",
       "    <tr>\n",
       "      <th>27380</th>\n",
       "      <td>10_0_2</td>\n",
       "      <td>8833</td>\n",
       "      <td>False</td>\n",
       "      <td>False</td>\n",
       "      <td>False</td>\n",
       "    </tr>\n",
       "    <tr>\n",
       "      <th>27381</th>\n",
       "      <td>10_0_3</td>\n",
       "      <td>8833</td>\n",
       "      <td>False</td>\n",
       "      <td>False</td>\n",
       "      <td>False</td>\n",
       "    </tr>\n",
       "    <tr>\n",
       "      <th>27382</th>\n",
       "      <td>10_0_0</td>\n",
       "      <td>8834</td>\n",
       "      <td>False</td>\n",
       "      <td>False</td>\n",
       "      <td>False</td>\n",
       "    </tr>\n",
       "    <tr>\n",
       "      <th>27383</th>\n",
       "      <td>10_0_1</td>\n",
       "      <td>8834</td>\n",
       "      <td>False</td>\n",
       "      <td>False</td>\n",
       "      <td>True</td>\n",
       "    </tr>\n",
       "    <tr>\n",
       "      <th>27384</th>\n",
       "      <td>10_0_3</td>\n",
       "      <td>8834</td>\n",
       "      <td>False</td>\n",
       "      <td>False</td>\n",
       "      <td>False</td>\n",
       "    </tr>\n",
       "  </tbody>\n",
       "</table>\n",
       "<p>27385 rows × 5 columns</p>\n",
       "</div>"
      ],
      "text/plain": [
       "      MachineId  MeasurementId PumpFailed SlowStart SlowEnd\n",
       "0         0_0_0              0      False     False   False\n",
       "1         0_0_1             -1        NaN       NaN     NaN\n",
       "2         0_0_2              0      False     False   False\n",
       "3         0_0_3              0       True     False   False\n",
       "4         0_1_0             -1        NaN       NaN     NaN\n",
       "...         ...            ...        ...       ...     ...\n",
       "27380    10_0_2           8833      False     False   False\n",
       "27381    10_0_3           8833      False     False   False\n",
       "27382    10_0_0           8834      False     False   False\n",
       "27383    10_0_1           8834      False     False    True\n",
       "27384    10_0_3           8834      False     False   False\n",
       "\n",
       "[27385 rows x 5 columns]"
      ]
     },
     "execution_count": 4,
     "metadata": {},
     "output_type": "execute_result"
    }
   ],
   "source": [
    "labels"
   ]
  },
  {
   "cell_type": "code",
   "execution_count": 5,
   "id": "ab6ea2f5",
   "metadata": {},
   "outputs": [
    {
     "name": "stdout",
     "output_type": "stream",
     "text": [
      "<class 'pandas.core.frame.DataFrame'>\n",
      "RangeIndex: 27385 entries, 0 to 27384\n",
      "Data columns (total 5 columns):\n",
      " #   Column         Non-Null Count  Dtype \n",
      "---  ------         --------------  ----- \n",
      " 0   MachineId      27385 non-null  object\n",
      " 1   MeasurementId  27385 non-null  int64 \n",
      " 2   PumpFailed     26900 non-null  object\n",
      " 3   SlowStart      19300 non-null  object\n",
      " 4   SlowEnd        19300 non-null  object\n",
      "dtypes: int64(1), object(4)\n",
      "memory usage: 1.0+ MB\n"
     ]
    }
   ],
   "source": [
    "labels.info()"
   ]
  },
  {
   "cell_type": "code",
   "execution_count": 7,
   "id": "29ae40b8",
   "metadata": {},
   "outputs": [
    {
     "data": {
      "text/html": [
       "<div>\n",
       "<style scoped>\n",
       "    .dataframe tbody tr th:only-of-type {\n",
       "        vertical-align: middle;\n",
       "    }\n",
       "\n",
       "    .dataframe tbody tr th {\n",
       "        vertical-align: top;\n",
       "    }\n",
       "\n",
       "    .dataframe thead th {\n",
       "        text-align: right;\n",
       "    }\n",
       "</style>\n",
       "<table border=\"1\" class=\"dataframe\">\n",
       "  <thead>\n",
       "    <tr style=\"text-align: right;\">\n",
       "      <th></th>\n",
       "      <th>MachineId</th>\n",
       "      <th>MeasurementId</th>\n",
       "      <th>PumpFailed</th>\n",
       "      <th>SlowStart</th>\n",
       "      <th>SlowEnd</th>\n",
       "    </tr>\n",
       "  </thead>\n",
       "  <tbody>\n",
       "  </tbody>\n",
       "</table>\n",
       "</div>"
      ],
      "text/plain": [
       "Empty DataFrame\n",
       "Columns: [MachineId, MeasurementId, PumpFailed, SlowStart, SlowEnd]\n",
       "Index: []"
      ]
     },
     "execution_count": 7,
     "metadata": {},
     "output_type": "execute_result"
    }
   ],
   "source": [
    "#searching for duplicit values in \"labels\" \n",
    "labels[labels.duplicated()]"
   ]
  },
  {
   "cell_type": "code",
   "execution_count": 8,
   "id": "35a1a2ac",
   "metadata": {},
   "outputs": [
    {
     "data": {
      "text/html": [
       "<div>\n",
       "<style scoped>\n",
       "    .dataframe tbody tr th:only-of-type {\n",
       "        vertical-align: middle;\n",
       "    }\n",
       "\n",
       "    .dataframe tbody tr th {\n",
       "        vertical-align: top;\n",
       "    }\n",
       "\n",
       "    .dataframe thead th {\n",
       "        text-align: right;\n",
       "    }\n",
       "</style>\n",
       "<table border=\"1\" class=\"dataframe\">\n",
       "  <thead>\n",
       "    <tr style=\"text-align: right;\">\n",
       "      <th></th>\n",
       "      <th></th>\n",
       "      <th>Pressure</th>\n",
       "    </tr>\n",
       "    <tr>\n",
       "      <th>MachineId</th>\n",
       "      <th>MeasurementId</th>\n",
       "      <th></th>\n",
       "    </tr>\n",
       "  </thead>\n",
       "  <tbody>\n",
       "    <tr>\n",
       "      <th rowspan=\"5\" valign=\"top\">0_0_0</th>\n",
       "      <th>-1</th>\n",
       "      <td>101711</td>\n",
       "    </tr>\n",
       "    <tr>\n",
       "      <th>0</th>\n",
       "      <td>368</td>\n",
       "    </tr>\n",
       "    <tr>\n",
       "      <th>215</th>\n",
       "      <td>732</td>\n",
       "    </tr>\n",
       "    <tr>\n",
       "      <th>237</th>\n",
       "      <td>589</td>\n",
       "    </tr>\n",
       "    <tr>\n",
       "      <th>353</th>\n",
       "      <td>349</td>\n",
       "    </tr>\n",
       "    <tr>\n",
       "      <th>...</th>\n",
       "      <th>...</th>\n",
       "      <td>...</td>\n",
       "    </tr>\n",
       "    <tr>\n",
       "      <th rowspan=\"5\" valign=\"top\">9_5_3</th>\n",
       "      <th>4253</th>\n",
       "      <td>337</td>\n",
       "    </tr>\n",
       "    <tr>\n",
       "      <th>4254</th>\n",
       "      <td>478</td>\n",
       "    </tr>\n",
       "    <tr>\n",
       "      <th>4255</th>\n",
       "      <td>436</td>\n",
       "    </tr>\n",
       "    <tr>\n",
       "      <th>4256</th>\n",
       "      <td>549</td>\n",
       "    </tr>\n",
       "    <tr>\n",
       "      <th>4257</th>\n",
       "      <td>380</td>\n",
       "    </tr>\n",
       "  </tbody>\n",
       "</table>\n",
       "<p>27385 rows × 1 columns</p>\n",
       "</div>"
      ],
      "text/plain": [
       "                         Pressure\n",
       "MachineId MeasurementId          \n",
       "0_0_0     -1               101711\n",
       "           0                  368\n",
       "           215                732\n",
       "           237                589\n",
       "           353                349\n",
       "...                           ...\n",
       "9_5_3      4253               337\n",
       "           4254               478\n",
       "           4255               436\n",
       "           4256               549\n",
       "           4257               380\n",
       "\n",
       "[27385 rows x 1 columns]"
      ]
     },
     "execution_count": 8,
     "metadata": {},
     "output_type": "execute_result"
    }
   ],
   "source": [
    "#searching if numbers of measurement  which were done during each cycle are the same\n",
    "data.groupby([\"MachineId\",\"MeasurementId\"]).count()"
   ]
  },
  {
   "cell_type": "code",
   "execution_count": 9,
   "id": "fe037768",
   "metadata": {},
   "outputs": [
    {
     "data": {
      "text/plain": [
       "MachineId\n",
       "0_2_0     185476\n",
       "0_2_3     149535\n",
       "0_2_2     135534\n",
       "0_2_1     127175\n",
       "0_1_1     123663\n",
       "           ...  \n",
       "60_2_1       271\n",
       "60_2_3       271\n",
       "22_0_1       231\n",
       "22_0_0       231\n",
       "67_2_0       226\n",
       "Name: Pressure, Length: 485, dtype: int64"
      ]
     },
     "execution_count": 9,
     "metadata": {},
     "output_type": "execute_result"
    }
   ],
   "source": [
    "# -1 measurementID cycle has much higher number of measurement either in contrast to other cycles\n",
    "#checking -1 MeasurementId cycle for other machiens\n",
    "data[data[\"MeasurementId\"] == -1].groupby([\"MachineId\"])[\"Pressure\"].count().sort_values(ascending=False)"
   ]
  },
  {
   "cell_type": "code",
   "execution_count": 10,
   "id": "540ad482",
   "metadata": {},
   "outputs": [
    {
     "data": {
      "text/html": [
       "<div>\n",
       "<style scoped>\n",
       "    .dataframe tbody tr th:only-of-type {\n",
       "        vertical-align: middle;\n",
       "    }\n",
       "\n",
       "    .dataframe tbody tr th {\n",
       "        vertical-align: top;\n",
       "    }\n",
       "\n",
       "    .dataframe thead th {\n",
       "        text-align: right;\n",
       "    }\n",
       "</style>\n",
       "<table border=\"1\" class=\"dataframe\">\n",
       "  <thead>\n",
       "    <tr style=\"text-align: right;\">\n",
       "      <th></th>\n",
       "      <th>MachineId</th>\n",
       "      <th>MeasurementId</th>\n",
       "      <th>PumpFailed</th>\n",
       "      <th>SlowStart</th>\n",
       "      <th>SlowEnd</th>\n",
       "    </tr>\n",
       "  </thead>\n",
       "  <tbody>\n",
       "    <tr>\n",
       "      <th>1</th>\n",
       "      <td>0_0_1</td>\n",
       "      <td>-1</td>\n",
       "      <td>NaN</td>\n",
       "      <td>NaN</td>\n",
       "      <td>NaN</td>\n",
       "    </tr>\n",
       "    <tr>\n",
       "      <th>4</th>\n",
       "      <td>0_1_0</td>\n",
       "      <td>-1</td>\n",
       "      <td>NaN</td>\n",
       "      <td>NaN</td>\n",
       "      <td>NaN</td>\n",
       "    </tr>\n",
       "    <tr>\n",
       "      <th>6</th>\n",
       "      <td>0_1_2</td>\n",
       "      <td>-1</td>\n",
       "      <td>NaN</td>\n",
       "      <td>NaN</td>\n",
       "      <td>NaN</td>\n",
       "    </tr>\n",
       "    <tr>\n",
       "      <th>7</th>\n",
       "      <td>0_1_3</td>\n",
       "      <td>-1</td>\n",
       "      <td>NaN</td>\n",
       "      <td>NaN</td>\n",
       "      <td>NaN</td>\n",
       "    </tr>\n",
       "    <tr>\n",
       "      <th>9</th>\n",
       "      <td>1_0_1</td>\n",
       "      <td>-1</td>\n",
       "      <td>NaN</td>\n",
       "      <td>NaN</td>\n",
       "      <td>NaN</td>\n",
       "    </tr>\n",
       "    <tr>\n",
       "      <th>...</th>\n",
       "      <td>...</td>\n",
       "      <td>...</td>\n",
       "      <td>...</td>\n",
       "      <td>...</td>\n",
       "      <td>...</td>\n",
       "    </tr>\n",
       "    <tr>\n",
       "      <th>25788</th>\n",
       "      <td>15_0_2</td>\n",
       "      <td>-1</td>\n",
       "      <td>NaN</td>\n",
       "      <td>NaN</td>\n",
       "      <td>NaN</td>\n",
       "    </tr>\n",
       "    <tr>\n",
       "      <th>25789</th>\n",
       "      <td>15_0_3</td>\n",
       "      <td>-1</td>\n",
       "      <td>NaN</td>\n",
       "      <td>NaN</td>\n",
       "      <td>NaN</td>\n",
       "    </tr>\n",
       "    <tr>\n",
       "      <th>25792</th>\n",
       "      <td>15_0_1</td>\n",
       "      <td>-1</td>\n",
       "      <td>NaN</td>\n",
       "      <td>NaN</td>\n",
       "      <td>NaN</td>\n",
       "    </tr>\n",
       "    <tr>\n",
       "      <th>27018</th>\n",
       "      <td>11_2_2</td>\n",
       "      <td>-1</td>\n",
       "      <td>NaN</td>\n",
       "      <td>NaN</td>\n",
       "      <td>NaN</td>\n",
       "    </tr>\n",
       "    <tr>\n",
       "      <th>27019</th>\n",
       "      <td>11_2_3</td>\n",
       "      <td>-1</td>\n",
       "      <td>NaN</td>\n",
       "      <td>NaN</td>\n",
       "      <td>NaN</td>\n",
       "    </tr>\n",
       "  </tbody>\n",
       "</table>\n",
       "<p>485 rows × 5 columns</p>\n",
       "</div>"
      ],
      "text/plain": [
       "      MachineId  MeasurementId PumpFailed SlowStart SlowEnd\n",
       "1         0_0_1             -1        NaN       NaN     NaN\n",
       "4         0_1_0             -1        NaN       NaN     NaN\n",
       "6         0_1_2             -1        NaN       NaN     NaN\n",
       "7         0_1_3             -1        NaN       NaN     NaN\n",
       "9         1_0_1             -1        NaN       NaN     NaN\n",
       "...         ...            ...        ...       ...     ...\n",
       "25788    15_0_2             -1        NaN       NaN     NaN\n",
       "25789    15_0_3             -1        NaN       NaN     NaN\n",
       "25792    15_0_1             -1        NaN       NaN     NaN\n",
       "27018    11_2_2             -1        NaN       NaN     NaN\n",
       "27019    11_2_3             -1        NaN       NaN     NaN\n",
       "\n",
       "[485 rows x 5 columns]"
      ]
     },
     "execution_count": 10,
     "metadata": {},
     "output_type": "execute_result"
    }
   ],
   "source": [
    "#how it looks with -1 meaID cycles in labels dataset?\n",
    "labels[labels[\"MeasurementId\"]==-1]"
   ]
  },
  {
   "cell_type": "code",
   "execution_count": 11,
   "id": "8fddb360",
   "metadata": {},
   "outputs": [
    {
     "data": {
      "text/plain": [
       "MachineId          0\n",
       "MeasurementId      0\n",
       "PumpFailed       485\n",
       "SlowStart        485\n",
       "SlowEnd          485\n",
       "dtype: int64"
      ]
     },
     "execution_count": 11,
     "metadata": {},
     "output_type": "execute_result"
    }
   ],
   "source": [
    "#checking how many rows with meaId -1 has null value in PumpFailed,SlowStart,SlowEnd columns\n",
    "labels[labels[\"MeasurementId\"]==-1].isna().sum()"
   ]
  },
  {
   "cell_type": "code",
   "execution_count": 12,
   "id": "ac26fa61",
   "metadata": {},
   "outputs": [
    {
     "data": {
      "text/plain": [
       "MachineId        0\n",
       "MeasurementId    0\n",
       "Pressure         0\n",
       "dtype: int64"
      ]
     },
     "execution_count": 12,
     "metadata": {},
     "output_type": "execute_result"
    }
   ],
   "source": [
    "data.isna().sum()"
   ]
  },
  {
   "cell_type": "code",
   "execution_count": 13,
   "id": "e97ad513",
   "metadata": {},
   "outputs": [
    {
     "data": {
      "text/plain": [
       "True"
      ]
     },
     "execution_count": 13,
     "metadata": {},
     "output_type": "execute_result"
    }
   ],
   "source": [
    "# finding out if each machine from \"data\" has pair in \"labels\" and vice versa\n",
    "all(labels[\"MachineId\"].unique() == data[\"MachineId\"].unique())"
   ]
  },
  {
   "cell_type": "code",
   "execution_count": 14,
   "id": "b73c0eca",
   "metadata": {},
   "outputs": [
    {
     "data": {
      "text/plain": [
       "<AxesSubplot:>"
      ]
     },
     "execution_count": 14,
     "metadata": {},
     "output_type": "execute_result"
    },
    {
     "data": {
      "image/png": "[encoded data removed]",
      "text/plain": [
       "<Figure size 432x288 with 1 Axes>"
      ]
     },
     "metadata": {
      "needs_background": "light"
     },
     "output_type": "display_data"
    }
   ],
   "source": [
    "#checking pressure durring cycle, when pump failed/notfailed ( Ids number got from labels[labels[\"PumpFailed\"] == True])\n",
    "#Failed\n",
    "data[(data[\"MachineId\"] == \"0_0_3\") & (data[\"MeasurementId\"]==0)][\"Pressure\"].plot()"
   ]
  },
  {
   "cell_type": "code",
   "execution_count": 15,
   "id": "0bebd31f",
   "metadata": {},
   "outputs": [
    {
     "data": {
      "text/plain": [
       "Text(0.5, 1.0, 'Chart 2')"
      ]
     },
     "execution_count": 15,
     "metadata": {},
     "output_type": "execute_result"
    },
    {
     "data": {
      "image/png": "[encoded data removed]",
      "text/plain": [
       "<Figure size 432x288 with 1 Axes>"
      ]
     },
     "metadata": {
      "needs_background": "light"
     },
     "output_type": "display_data"
    }
   ],
   "source": [
    "#not failed\n",
    "data[(data[\"MachineId\"] == \"0_0_0\") & (data[\"MeasurementId\"]==0)][\"Pressure\"].plot()\n",
    "plt.title(\"Chart 2\")"
   ]
  },
  {
   "cell_type": "code",
   "execution_count": 16,
   "id": "4b07612c",
   "metadata": {},
   "outputs": [
    {
     "data": {
      "text/plain": [
       "False    23958\n",
       "True      2942\n",
       "Name: PumpFailed, dtype: int64"
      ]
     },
     "execution_count": 16,
     "metadata": {},
     "output_type": "execute_result"
    },
    {
     "data": {
      "image/png": "[encoded data removed]",
      "text/plain": [
       "<Figure size 432x288 with 1 Axes>"
      ]
     },
     "metadata": {
      "needs_background": "light"
     },
     "output_type": "display_data"
    }
   ],
   "source": [
    "# checking response variable\n",
    "sns.countplot(x=\"PumpFailed\",data=labels)\n",
    "labels[\"PumpFailed\"].value_counts()\n",
    "#highly unbalanced (I will pay more attention to it later)"
   ]
  },
  {
   "cell_type": "code",
   "execution_count": 17,
   "id": "9baeae7b",
   "metadata": {},
   "outputs": [
    {
     "data": {
      "text/plain": [
       "<AxesSubplot:xlabel='PumpFailed', ylabel='Pressure_mean'>"
      ]
     },
     "execution_count": 17,
     "metadata": {},
     "output_type": "execute_result"
    },
    {
     "data": {
      "image/png": "[encoded data removed]",
      "text/plain": [
       "<Figure size 432x288 with 1 Axes>"
      ]
     },
     "metadata": {
      "needs_background": "light"
     },
     "output_type": "display_data"
    }
   ],
   "source": [
    "#joining both dataset only for some exploration purposes\n",
    "temporary_dataset = pd.merge(labels,data,left_on=[\"MachineId\",\"MeasurementId\"],right_on=[\"MachineId\",\"MeasurementId\"],how=\"left\")\n",
    "temporary_dataset_grouped = temporary_dataset.groupby([\"MachineId\",\"MeasurementId\",\"PumpFailed\"]).mean().reset_index()\n",
    "temporary_dataset_grouped = temporary_dataset_grouped.rename(columns={\"Pressure\":\"Pressure_mean\"})\n",
    "sns.boxplot(x=\"PumpFailed\",y=\"Pressure_mean\",data=temporary_dataset_grouped)"
   ]
  },
  {
   "cell_type": "code",
   "execution_count": 18,
   "id": "111ff2bd",
   "metadata": {},
   "outputs": [
    {
     "data": {
      "text/plain": [
       "<AxesSubplot:xlabel='PumpFailed', ylabel='Pressure_mean'>"
      ]
     },
     "execution_count": 18,
     "metadata": {},
     "output_type": "execute_result"
    },
    {
     "data": {
      "image/png": "[encoded data removed]",
      "text/plain": [
       "<Figure size 432x288 with 1 Axes>"
      ]
     },
     "metadata": {
      "needs_background": "light"
     },
     "output_type": "display_data"
    }
   ],
   "source": [
    "#filtering and plotting data where Pressure > 0\n",
    "#I assume that if Pressure is zero air pump has not started working yet /or already stopped\n",
    "## for example: Area between approx(0-70) & (230-350) in the \"Chart 2\" above \n",
    "temporary_dataset_grouped = temporary_dataset[temporary_dataset[\"Pressure\"]>0].groupby([\"MachineId\",\"MeasurementId\",\"PumpFailed\"]).mean().reset_index()\n",
    "temporary_dataset_grouped = temporary_dataset_grouped.rename(columns={\"Pressure\":\"Pressure_mean\"})\n",
    "sns.boxplot(x=\"PumpFailed\",y=\"Pressure_mean\",data=temporary_dataset_grouped)"
   ]
  },
  {
   "cell_type": "markdown",
   "id": "3b592466",
   "metadata": {},
   "source": [
    "# ??"
   ]
  },
  {
   "cell_type": "markdown",
   "id": "1f28c923",
   "metadata": {},
   "source": [
    "Some stuff found during data exploration which I don't understand and dont know how to handle. Is is anomaly and should be filtered out or not?\n",
    "for example:"
   ]
  },
  {
   "cell_type": "code",
   "execution_count": 19,
   "id": "2180d6f1",
   "metadata": {},
   "outputs": [
    {
     "data": {
      "text/html": [
       "<div>\n",
       "<style scoped>\n",
       "    .dataframe tbody tr th:only-of-type {\n",
       "        vertical-align: middle;\n",
       "    }\n",
       "\n",
       "    .dataframe tbody tr th {\n",
       "        vertical-align: top;\n",
       "    }\n",
       "\n",
       "    .dataframe thead th {\n",
       "        text-align: right;\n",
       "    }\n",
       "</style>\n",
       "<table border=\"1\" class=\"dataframe\">\n",
       "  <thead>\n",
       "    <tr style=\"text-align: right;\">\n",
       "      <th></th>\n",
       "      <th>MachineId</th>\n",
       "      <th>MeasurementId</th>\n",
       "      <th>PumpFailed</th>\n",
       "      <th>SlowStart</th>\n",
       "      <th>SlowEnd</th>\n",
       "    </tr>\n",
       "  </thead>\n",
       "  <tbody>\n",
       "    <tr>\n",
       "      <th>26905</th>\n",
       "      <td>0_2_0</td>\n",
       "      <td>8675</td>\n",
       "      <td>False</td>\n",
       "      <td>False</td>\n",
       "      <td>False</td>\n",
       "    </tr>\n",
       "  </tbody>\n",
       "</table>\n",
       "</div>"
      ],
      "text/plain": [
       "      MachineId  MeasurementId PumpFailed SlowStart SlowEnd\n",
       "26905     0_2_0           8675      False     False   False"
      ]
     },
     "execution_count": 19,
     "metadata": {},
     "output_type": "execute_result"
    },
    {
     "data": {
      "image/png": "[encoded data removed]",
      "text/plain": [
       "<Figure size 432x288 with 1 Axes>"
      ]
     },
     "metadata": {
      "needs_background": "light"
     },
     "output_type": "display_data"
    }
   ],
   "source": [
    "#Pump did not provide any air pressure but according to the data Pump did not failed and did not have Slow Start a Slow End\n",
    "data[(data[\"MachineId\"] == \"0_2_0\") & (data[\"MeasurementId\"] == 8675)][\"Pressure\"].plot()\n",
    "labels[(labels[\"MachineId\"] == \"0_2_0\") & (labels[\"MeasurementId\"] == 8675)]"
   ]
  },
  {
   "cell_type": "code",
   "execution_count": 20,
   "id": "d13269a5",
   "metadata": {},
   "outputs": [
    {
     "data": {
      "text/html": [
       "<div>\n",
       "<style scoped>\n",
       "    .dataframe tbody tr th:only-of-type {\n",
       "        vertical-align: middle;\n",
       "    }\n",
       "\n",
       "    .dataframe tbody tr th {\n",
       "        vertical-align: top;\n",
       "    }\n",
       "\n",
       "    .dataframe thead th {\n",
       "        text-align: right;\n",
       "    }\n",
       "</style>\n",
       "<table border=\"1\" class=\"dataframe\">\n",
       "  <thead>\n",
       "    <tr style=\"text-align: right;\">\n",
       "      <th></th>\n",
       "      <th>MachineId</th>\n",
       "      <th>MeasurementId</th>\n",
       "      <th>PumpFailed</th>\n",
       "      <th>SlowStart</th>\n",
       "      <th>SlowEnd</th>\n",
       "    </tr>\n",
       "  </thead>\n",
       "  <tbody>\n",
       "    <tr>\n",
       "      <th>1601</th>\n",
       "      <td>0_1_2</td>\n",
       "      <td>666</td>\n",
       "      <td>False</td>\n",
       "      <td>NaN</td>\n",
       "      <td>NaN</td>\n",
       "    </tr>\n",
       "  </tbody>\n",
       "</table>\n",
       "</div>"
      ],
      "text/plain": [
       "     MachineId  MeasurementId PumpFailed SlowStart SlowEnd\n",
       "1601     0_1_2            666      False       NaN     NaN"
      ]
     },
     "execution_count": 20,
     "metadata": {},
     "output_type": "execute_result"
    },
    {
     "data": {
      "image/png": "[encoded data removed]",
      "text/plain": [
       "<Figure size 432x288 with 1 Axes>"
      ]
     },
     "metadata": {
      "needs_background": "light"
     },
     "output_type": "display_data"
    }
   ],
   "source": [
    "# Pump is referred to as not failed in this cycle even though there is temporary considerable pressure decrease in the first half of the cycle.\n",
    "data[(data[\"MachineId\"] == \"0_1_2\") & (data[\"MeasurementId\"] == 666)][\"Pressure\"].plot()\n",
    "labels[(labels[\"MachineId\"] == \"0_1_2\") & (labels[\"MeasurementId\"] == 666)]"
   ]
  },
  {
   "cell_type": "markdown",
   "id": "5b1d9637",
   "metadata": {},
   "source": [
    "Based on that I was wondering if there is any way to efficiently handle null values in the Pump Failed, Slow Start, Slow End columns other than dropping them out.<br>\n",
    "Therefore I decided below to filter out all null values ​​even though it's not the best way."
   ]
  },
  {
   "cell_type": "markdown",
   "id": "accfdcb6",
   "metadata": {},
   "source": [
    "### Data preprocessing"
   ]
  },
  {
   "cell_type": "code",
   "execution_count": 21,
   "id": "8428ca34",
   "metadata": {},
   "outputs": [
    {
     "data": {
      "text/plain": [
       "MachineId           0\n",
       "MeasurementId       0\n",
       "PumpFailed        485\n",
       "SlowStart        8085\n",
       "SlowEnd          8085\n",
       "dtype: int64"
      ]
     },
     "execution_count": 21,
     "metadata": {},
     "output_type": "execute_result"
    }
   ],
   "source": [
    "labels.isna().sum()"
   ]
  },
  {
   "cell_type": "code",
   "execution_count": 22,
   "id": "605d290d",
   "metadata": {},
   "outputs": [],
   "source": [
    "labels.dropna(inplace=True)"
   ]
  },
  {
   "cell_type": "markdown",
   "id": "dfdd4b5a",
   "metadata": {},
   "source": [
    "based on information in the task (\"The typical air pump failure is a temporary pressure decrease in the first half of the cycle\") I decided to create another explonatory variable called \"half_cycle_std\". Main idea was to calculate standard deviation of non-zero values in the first half of the cycle."
   ]
  },
  {
   "cell_type": "code",
   "execution_count": 23,
   "id": "5b32c765",
   "metadata": {},
   "outputs": [],
   "source": [
    "#I defined function for doing that\n",
    "def std_count(x,y):\n",
    "    v_data = data[(data[\"MachineId\"]== x) & (data[\"MeasurementId\"]== y) & (data[\"Pressure\"]>0)]\n",
    "    v_std = v_data.head(round(len(v_data)/2))[\"Pressure\"].std()\n",
    "    return v_std"
   ]
  },
  {
   "cell_type": "code",
   "execution_count": null,
   "id": "040ffba1",
   "metadata": {},
   "outputs": [],
   "source": [
    "#And tried to apply on on dataset\n",
    "labels[\"half_cycle_std\"] = labels.apply(lambda x: std_count(x[\"MachineId\"],x[\"MeasurementId\"]),axis=1)\n",
    "#unfortunately without result. It would took a long time to my computer to process this command so i interrupt it."
   ]
  },
  {
   "cell_type": "code",
   "execution_count": 24,
   "id": "7519dafd",
   "metadata": {},
   "outputs": [],
   "source": [
    "#creating two more variables\n",
    "#Standard deviation a mean of nonzero airpressure in each cycle\n",
    "cycle_mean = data[data[\"Pressure\"]>0].groupby([\"MachineId\",\"MeasurementId\"]).mean().reset_index()"
   ]
  },
  {
   "cell_type": "code",
   "execution_count": 25,
   "id": "cf20406f",
   "metadata": {},
   "outputs": [],
   "source": [
    "cycle_mean = cycle_mean.rename(columns={\"Pressure\":\"pressure_mean\"})"
   ]
  },
  {
   "cell_type": "code",
   "execution_count": 26,
   "id": "bdbdbdcb",
   "metadata": {},
   "outputs": [],
   "source": [
    "labels = pd.merge(labels,cycle_mean,how=\"left\",left_on=[\"MachineId\",\"MeasurementId\"],right_on=[\"MachineId\",\"MeasurementId\"])"
   ]
  },
  {
   "cell_type": "code",
   "execution_count": 27,
   "id": "bcf3b7e7",
   "metadata": {},
   "outputs": [],
   "source": [
    "cycle_std = data[data[\"Pressure\"]>0].groupby([\"MachineId\",\"MeasurementId\"]).std().reset_index()"
   ]
  },
  {
   "cell_type": "code",
   "execution_count": 28,
   "id": "58eb7a0d",
   "metadata": {},
   "outputs": [],
   "source": [
    "cycle_std = cycle_std.rename(columns={\"Pressure\":\"std\"})"
   ]
  },
  {
   "cell_type": "code",
   "execution_count": 29,
   "id": "7f6dcf59",
   "metadata": {},
   "outputs": [],
   "source": [
    "labels = pd.merge(labels,cycle_std,how=\"left\",left_on=[\"MachineId\",\"MeasurementId\"],right_on=[\"MachineId\",\"MeasurementId\"]).dropna()"
   ]
  },
  {
   "cell_type": "code",
   "execution_count": 30,
   "id": "a80c5f7b",
   "metadata": {},
   "outputs": [
    {
     "data": {
      "text/plain": [
       "False    17077\n",
       "True      2160\n",
       "Name: PumpFailed, dtype: int64"
      ]
     },
     "execution_count": 30,
     "metadata": {},
     "output_type": "execute_result"
    }
   ],
   "source": [
    "labels[\"PumpFailed\"].value_counts()"
   ]
  },
  {
   "cell_type": "code",
   "execution_count": 31,
   "id": "862c4b31",
   "metadata": {},
   "outputs": [
    {
     "data": {
      "text/html": [
       "<div>\n",
       "<style scoped>\n",
       "    .dataframe tbody tr th:only-of-type {\n",
       "        vertical-align: middle;\n",
       "    }\n",
       "\n",
       "    .dataframe tbody tr th {\n",
       "        vertical-align: top;\n",
       "    }\n",
       "\n",
       "    .dataframe thead th {\n",
       "        text-align: right;\n",
       "    }\n",
       "</style>\n",
       "<table border=\"1\" class=\"dataframe\">\n",
       "  <thead>\n",
       "    <tr style=\"text-align: right;\">\n",
       "      <th></th>\n",
       "      <th>MachineId</th>\n",
       "      <th>MeasurementId</th>\n",
       "      <th>PumpFailed</th>\n",
       "      <th>SlowStart</th>\n",
       "      <th>SlowEnd</th>\n",
       "      <th>pressure_mean</th>\n",
       "      <th>std</th>\n",
       "    </tr>\n",
       "  </thead>\n",
       "  <tbody>\n",
       "    <tr>\n",
       "      <th>0</th>\n",
       "      <td>0_0_0</td>\n",
       "      <td>0</td>\n",
       "      <td>False</td>\n",
       "      <td>False</td>\n",
       "      <td>False</td>\n",
       "      <td>1.014906</td>\n",
       "      <td>0.349993</td>\n",
       "    </tr>\n",
       "    <tr>\n",
       "      <th>1</th>\n",
       "      <td>0_0_2</td>\n",
       "      <td>0</td>\n",
       "      <td>False</td>\n",
       "      <td>False</td>\n",
       "      <td>False</td>\n",
       "      <td>0.820910</td>\n",
       "      <td>0.188122</td>\n",
       "    </tr>\n",
       "    <tr>\n",
       "      <th>2</th>\n",
       "      <td>0_0_3</td>\n",
       "      <td>0</td>\n",
       "      <td>True</td>\n",
       "      <td>False</td>\n",
       "      <td>False</td>\n",
       "      <td>0.948806</td>\n",
       "      <td>0.367615</td>\n",
       "    </tr>\n",
       "    <tr>\n",
       "      <th>3</th>\n",
       "      <td>0_1_1</td>\n",
       "      <td>1</td>\n",
       "      <td>True</td>\n",
       "      <td>False</td>\n",
       "      <td>False</td>\n",
       "      <td>1.000889</td>\n",
       "      <td>0.272449</td>\n",
       "    </tr>\n",
       "    <tr>\n",
       "      <th>4</th>\n",
       "      <td>1_0_0</td>\n",
       "      <td>2</td>\n",
       "      <td>False</td>\n",
       "      <td>True</td>\n",
       "      <td>False</td>\n",
       "      <td>0.960974</td>\n",
       "      <td>0.359026</td>\n",
       "    </tr>\n",
       "    <tr>\n",
       "      <th>...</th>\n",
       "      <td>...</td>\n",
       "      <td>...</td>\n",
       "      <td>...</td>\n",
       "      <td>...</td>\n",
       "      <td>...</td>\n",
       "      <td>...</td>\n",
       "      <td>...</td>\n",
       "    </tr>\n",
       "    <tr>\n",
       "      <th>19295</th>\n",
       "      <td>10_0_2</td>\n",
       "      <td>8833</td>\n",
       "      <td>False</td>\n",
       "      <td>False</td>\n",
       "      <td>False</td>\n",
       "      <td>0.933224</td>\n",
       "      <td>0.139800</td>\n",
       "    </tr>\n",
       "    <tr>\n",
       "      <th>19296</th>\n",
       "      <td>10_0_3</td>\n",
       "      <td>8833</td>\n",
       "      <td>False</td>\n",
       "      <td>False</td>\n",
       "      <td>False</td>\n",
       "      <td>1.091172</td>\n",
       "      <td>0.316269</td>\n",
       "    </tr>\n",
       "    <tr>\n",
       "      <th>19297</th>\n",
       "      <td>10_0_0</td>\n",
       "      <td>8834</td>\n",
       "      <td>False</td>\n",
       "      <td>False</td>\n",
       "      <td>False</td>\n",
       "      <td>1.442481</td>\n",
       "      <td>0.448122</td>\n",
       "    </tr>\n",
       "    <tr>\n",
       "      <th>19298</th>\n",
       "      <td>10_0_1</td>\n",
       "      <td>8834</td>\n",
       "      <td>False</td>\n",
       "      <td>False</td>\n",
       "      <td>True</td>\n",
       "      <td>1.050184</td>\n",
       "      <td>0.642714</td>\n",
       "    </tr>\n",
       "    <tr>\n",
       "      <th>19299</th>\n",
       "      <td>10_0_3</td>\n",
       "      <td>8834</td>\n",
       "      <td>False</td>\n",
       "      <td>False</td>\n",
       "      <td>False</td>\n",
       "      <td>1.541519</td>\n",
       "      <td>0.362559</td>\n",
       "    </tr>\n",
       "  </tbody>\n",
       "</table>\n",
       "<p>19237 rows × 7 columns</p>\n",
       "</div>"
      ],
      "text/plain": [
       "      MachineId  MeasurementId PumpFailed SlowStart SlowEnd  pressure_mean  \\\n",
       "0         0_0_0              0      False     False   False       1.014906   \n",
       "1         0_0_2              0      False     False   False       0.820910   \n",
       "2         0_0_3              0       True     False   False       0.948806   \n",
       "3         0_1_1              1       True     False   False       1.000889   \n",
       "4         1_0_0              2      False      True   False       0.960974   \n",
       "...         ...            ...        ...       ...     ...            ...   \n",
       "19295    10_0_2           8833      False     False   False       0.933224   \n",
       "19296    10_0_3           8833      False     False   False       1.091172   \n",
       "19297    10_0_0           8834      False     False   False       1.442481   \n",
       "19298    10_0_1           8834      False     False    True       1.050184   \n",
       "19299    10_0_3           8834      False     False   False       1.541519   \n",
       "\n",
       "            std  \n",
       "0      0.349993  \n",
       "1      0.188122  \n",
       "2      0.367615  \n",
       "3      0.272449  \n",
       "4      0.359026  \n",
       "...         ...  \n",
       "19295  0.139800  \n",
       "19296  0.316269  \n",
       "19297  0.448122  \n",
       "19298  0.642714  \n",
       "19299  0.362559  \n",
       "\n",
       "[19237 rows x 7 columns]"
      ]
     },
     "execution_count": 31,
     "metadata": {},
     "output_type": "execute_result"
    }
   ],
   "source": [
    "labels"
   ]
  },
  {
   "cell_type": "markdown",
   "id": "53cf773e",
   "metadata": {},
   "source": [
    "# Modeling"
   ]
  },
  {
   "cell_type": "code",
   "execution_count": 48,
   "id": "f75af2ee",
   "metadata": {},
   "outputs": [],
   "source": [
    "from sklearn.model_selection import train_test_split"
   ]
  },
  {
   "cell_type": "code",
   "execution_count": 49,
   "id": "cdc10ec2",
   "metadata": {},
   "outputs": [],
   "source": [
    "#Converting True/false to 1/0\n",
    "labels = labels.astype({\"SlowStart\":\"int\",\"SlowEnd\":\"int\",\"PumpFailed\":\"int\"})"
   ]
  },
  {
   "cell_type": "code",
   "execution_count": 50,
   "id": "508ba53e",
   "metadata": {},
   "outputs": [],
   "source": [
    "#Separating data\n",
    "X = labels[[\"SlowStart\",\"SlowEnd\",\"pressure_mean\",\"std\"]]\n",
    "y = labels[\"PumpFailed\"]\n",
    "\n",
    "X_train,X_test,y_train,y_test = train_test_split(X,y,test_size=0.3)"
   ]
  },
  {
   "cell_type": "markdown",
   "id": "84cb6598",
   "metadata": {},
   "source": [
    "#### dealing with unbalanced dataset with SMOTE technique"
   ]
  },
  {
   "cell_type": "code",
   "execution_count": 51,
   "id": "1c5c36bd",
   "metadata": {},
   "outputs": [],
   "source": [
    "from imblearn.over_sampling import SMOTE"
   ]
  },
  {
   "cell_type": "code",
   "execution_count": 52,
   "id": "1685cbe9",
   "metadata": {},
   "outputs": [],
   "source": [
    "sm = SMOTE()"
   ]
  },
  {
   "cell_type": "code",
   "execution_count": 53,
   "id": "0b19b328",
   "metadata": {},
   "outputs": [],
   "source": [
    "X_train_sm,y_train_sm = sm.fit_resample(X_train, y_train)"
   ]
  },
  {
   "cell_type": "code",
   "execution_count": 54,
   "id": "3be8c50e",
   "metadata": {},
   "outputs": [
    {
     "name": "stdout",
     "output_type": "stream",
     "text": [
      "0    11963\n",
      "1     1502\n",
      "Name: PumpFailed, dtype: int64\n",
      "0    11963\n",
      "1    11963\n",
      "Name: PumpFailed, dtype: int64\n"
     ]
    }
   ],
   "source": [
    "print(y_train.value_counts())\n",
    "print(y_train_sm.value_counts())"
   ]
  },
  {
   "cell_type": "markdown",
   "id": "8d5b62a6",
   "metadata": {},
   "source": [
    "### models"
   ]
  },
  {
   "cell_type": "code",
   "execution_count": 55,
   "id": "6326d4cc",
   "metadata": {},
   "outputs": [],
   "source": [
    "from sklearn.linear_model import LogisticRegression\n",
    "from sklearn.neighbors import KNeighborsClassifier\n",
    "from sklearn.svm import SVC\n",
    "from sklearn.ensemble import RandomForestClassifier\n",
    "from sklearn.metrics import classification_report, confusion_matrix"
   ]
  },
  {
   "cell_type": "code",
   "execution_count": 56,
   "id": "d2ce3290",
   "metadata": {},
   "outputs": [],
   "source": [
    "#Logistic Regression\n",
    "lr_model = LogisticRegression()\n",
    "lr_model.fit(X_train_sm,y_train_sm)\n",
    "lr_pred = lr_model.predict(X_test)"
   ]
  },
  {
   "cell_type": "code",
   "execution_count": 57,
   "id": "24ad53b2",
   "metadata": {},
   "outputs": [
    {
     "name": "stdout",
     "output_type": "stream",
     "text": [
      "[[3703 1411]\n",
      " [ 156  502]]\n",
      "              precision    recall  f1-score   support\n",
      "\n",
      "           0       0.96      0.72      0.83      5114\n",
      "           1       0.26      0.76      0.39       658\n",
      "\n",
      "    accuracy                           0.73      5772\n",
      "   macro avg       0.61      0.74      0.61      5772\n",
      "weighted avg       0.88      0.73      0.78      5772\n",
      "\n"
     ]
    }
   ],
   "source": [
    "print(confusion_matrix(y_test,lr_pred))\n",
    "print(classification_report(y_test,lr_pred))"
   ]
  },
  {
   "cell_type": "code",
   "execution_count": 58,
   "id": "0606f88f",
   "metadata": {},
   "outputs": [],
   "source": [
    "#KNN\n",
    "knn_model = KNeighborsClassifier()\n",
    "knn_model.fit(X_train_sm,y_train_sm)\n",
    "knn_pred = knn_model.predict(X_test)"
   ]
  },
  {
   "cell_type": "code",
   "execution_count": 59,
   "id": "460b9b59",
   "metadata": {},
   "outputs": [
    {
     "name": "stdout",
     "output_type": "stream",
     "text": [
      "[[3970 1144]\n",
      " [ 275  383]]\n",
      "              precision    recall  f1-score   support\n",
      "\n",
      "           0       0.94      0.78      0.85      5114\n",
      "           1       0.25      0.58      0.35       658\n",
      "\n",
      "    accuracy                           0.75      5772\n",
      "   macro avg       0.59      0.68      0.60      5772\n",
      "weighted avg       0.86      0.75      0.79      5772\n",
      "\n"
     ]
    }
   ],
   "source": [
    "print(confusion_matrix(y_test,knn_pred))\n",
    "print(classification_report(y_test,knn_pred))"
   ]
  },
  {
   "cell_type": "code",
   "execution_count": 60,
   "id": "b35d4907",
   "metadata": {},
   "outputs": [],
   "source": [
    "#SVM\n",
    "sv_model = SVC()\n",
    "sv_model.fit(X_train_sm,y_train_sm)\n",
    "sv_pred = sv_model.predict(X_test)"
   ]
  },
  {
   "cell_type": "code",
   "execution_count": 61,
   "id": "13867db2",
   "metadata": {},
   "outputs": [
    {
     "name": "stdout",
     "output_type": "stream",
     "text": [
      "[[3633 1481]\n",
      " [ 140  518]]\n",
      "              precision    recall  f1-score   support\n",
      "\n",
      "           0       0.96      0.71      0.82      5114\n",
      "           1       0.26      0.79      0.39       658\n",
      "\n",
      "    accuracy                           0.72      5772\n",
      "   macro avg       0.61      0.75      0.60      5772\n",
      "weighted avg       0.88      0.72      0.77      5772\n",
      "\n"
     ]
    }
   ],
   "source": [
    "print(confusion_matrix(y_test,sv_pred))\n",
    "print(classification_report(y_test,sv_pred))"
   ]
  },
  {
   "cell_type": "code",
   "execution_count": 62,
   "id": "26304524",
   "metadata": {},
   "outputs": [],
   "source": [
    "#RandomForest\n",
    "rf_model = RandomForestClassifier()\n",
    "rf_model.fit(X_train_sm,y_train_sm)\n",
    "rf_pred = rf_model.predict(X_test)"
   ]
  },
  {
   "cell_type": "code",
   "execution_count": 63,
   "id": "36fdc09c",
   "metadata": {},
   "outputs": [
    {
     "name": "stdout",
     "output_type": "stream",
     "text": [
      "[[4172  942]\n",
      " [ 306  352]]\n",
      "              precision    recall  f1-score   support\n",
      "\n",
      "           0       0.93      0.82      0.87      5114\n",
      "           1       0.27      0.53      0.36       658\n",
      "\n",
      "    accuracy                           0.78      5772\n",
      "   macro avg       0.60      0.68      0.62      5772\n",
      "weighted avg       0.86      0.78      0.81      5772\n",
      "\n"
     ]
    }
   ],
   "source": [
    "print(confusion_matrix(y_test,rf_pred))\n",
    "print(classification_report(y_test,rf_pred))"
   ]
  },
  {
   "cell_type": "markdown",
   "id": "4d13a0db",
   "metadata": {},
   "source": [
    "The best accuracy had RandomForrest, but I would say that for business is more important to detect if pump really fails so I searched for model with the best sensitivity."
   ]
  },
  {
   "cell_type": "code",
   "execution_count": 64,
   "id": "0ef97c68",
   "metadata": {},
   "outputs": [],
   "source": [
    "#parameter tuning for model with best sensitivity\n",
    "from sklearn.model_selection import GridSearchCV"
   ]
  },
  {
   "cell_type": "code",
   "execution_count": 66,
   "id": "4a40c5e1",
   "metadata": {},
   "outputs": [],
   "source": [
    "parameters = {'C': [0.1, 1, 10, 100],'gamma': [1, 0.1, 0.01, 0.001]}"
   ]
  },
  {
   "cell_type": "code",
   "execution_count": 67,
   "id": "79bbb8da",
   "metadata": {},
   "outputs": [],
   "source": [
    "grd_svm = GridSearchCV(SVC(),parameters,refit=True,verbose=2)"
   ]
  },
  {
   "cell_type": "code",
   "execution_count": 68,
   "id": "51752770",
   "metadata": {},
   "outputs": [
    {
     "name": "stdout",
     "output_type": "stream",
     "text": [
      "Fitting 5 folds for each of 16 candidates, totalling 80 fits\n",
      "[CV] END .....................................C=0.1, gamma=1; total time=  23.5s\n",
      "[CV] END .....................................C=0.1, gamma=1; total time=  28.6s\n",
      "[CV] END .....................................C=0.1, gamma=1; total time=  25.1s\n",
      "[CV] END .....................................C=0.1, gamma=1; total time=  23.2s\n",
      "[CV] END .....................................C=0.1, gamma=1; total time=  24.7s\n",
      "[CV] END ...................................C=0.1, gamma=0.1; total time=  26.5s\n",
      "[CV] END ...................................C=0.1, gamma=0.1; total time=  27.0s\n",
      "[CV] END ...................................C=0.1, gamma=0.1; total time=  33.1s\n",
      "[CV] END ...................................C=0.1, gamma=0.1; total time=  34.2s\n",
      "[CV] END ...................................C=0.1, gamma=0.1; total time=  38.7s\n",
      "[CV] END ..................................C=0.1, gamma=0.01; total time=  30.2s\n",
      "[CV] END ..................................C=0.1, gamma=0.01; total time=  29.9s\n",
      "[CV] END ..................................C=0.1, gamma=0.01; total time=  30.3s\n",
      "[CV] END ..................................C=0.1, gamma=0.01; total time=  30.2s\n",
      "[CV] END ..................................C=0.1, gamma=0.01; total time=  30.3s\n",
      "[CV] END .................................C=0.1, gamma=0.001; total time=  32.4s\n",
      "[CV] END .................................C=0.1, gamma=0.001; total time=  32.6s\n",
      "[CV] END .................................C=0.1, gamma=0.001; total time= 1.1min\n",
      "[CV] END .................................C=0.1, gamma=0.001; total time=  48.6s\n",
      "[CV] END .................................C=0.1, gamma=0.001; total time=  47.7s\n",
      "[CV] END .......................................C=1, gamma=1; total time=  22.0s\n",
      "[CV] END .......................................C=1, gamma=1; total time=  22.1s\n",
      "[CV] END .......................................C=1, gamma=1; total time=  21.9s\n",
      "[CV] END .......................................C=1, gamma=1; total time=  22.8s\n",
      "[CV] END .......................................C=1, gamma=1; total time=  25.5s\n",
      "[CV] END .....................................C=1, gamma=0.1; total time=  24.4s\n",
      "[CV] END .....................................C=1, gamma=0.1; total time=  24.1s\n",
      "[CV] END .....................................C=1, gamma=0.1; total time=  33.3s\n",
      "[CV] END .....................................C=1, gamma=0.1; total time=  28.0s\n",
      "[CV] END .....................................C=1, gamma=0.1; total time=  29.8s\n",
      "[CV] END ....................................C=1, gamma=0.01; total time=  33.2s\n",
      "[CV] END ....................................C=1, gamma=0.01; total time=  30.0s\n",
      "[CV] END ....................................C=1, gamma=0.01; total time=  28.6s\n",
      "[CV] END ....................................C=1, gamma=0.01; total time=  55.1s\n",
      "[CV] END ....................................C=1, gamma=0.01; total time=  29.7s\n",
      "[CV] END ...................................C=1, gamma=0.001; total time=  39.4s\n",
      "[CV] END ...................................C=1, gamma=0.001; total time=  53.9s\n",
      "[CV] END ...................................C=1, gamma=0.001; total time=  49.5s\n",
      "[CV] END ...................................C=1, gamma=0.001; total time=  38.6s\n",
      "[CV] END ...................................C=1, gamma=0.001; total time=  31.7s\n",
      "[CV] END ......................................C=10, gamma=1; total time=  21.7s\n",
      "[CV] END ......................................C=10, gamma=1; total time=  21.9s\n",
      "[CV] END ......................................C=10, gamma=1; total time=  24.2s\n",
      "[CV] END ......................................C=10, gamma=1; total time=  33.3s\n",
      "[CV] END ......................................C=10, gamma=1; total time=  28.7s\n",
      "[CV] END ....................................C=10, gamma=0.1; total time=  27.7s\n",
      "[CV] END ....................................C=10, gamma=0.1; total time=  23.6s\n",
      "[CV] END ....................................C=10, gamma=0.1; total time=  23.8s\n",
      "[CV] END ....................................C=10, gamma=0.1; total time=  24.2s\n",
      "[CV] END ....................................C=10, gamma=0.1; total time=  24.0s\n",
      "[CV] END ...................................C=10, gamma=0.01; total time=  29.8s\n",
      "[CV] END ...................................C=10, gamma=0.01; total time=  26.9s\n",
      "[CV] END ...................................C=10, gamma=0.01; total time=  24.2s\n",
      "[CV] END ...................................C=10, gamma=0.01; total time=  28.0s\n",
      "[CV] END ...................................C=10, gamma=0.01; total time=  42.7s\n",
      "[CV] END ..................................C=10, gamma=0.001; total time=  39.1s\n",
      "[CV] END ..................................C=10, gamma=0.001; total time=  39.2s\n",
      "[CV] END ..................................C=10, gamma=0.001; total time=  41.5s\n",
      "[CV] END ..................................C=10, gamma=0.001; total time=  37.8s\n",
      "[CV] END ..................................C=10, gamma=0.001; total time=  31.9s\n",
      "[CV] END .....................................C=100, gamma=1; total time=  23.1s\n",
      "[CV] END .....................................C=100, gamma=1; total time=  33.9s\n",
      "[CV] END .....................................C=100, gamma=1; total time=  23.4s\n",
      "[CV] END .....................................C=100, gamma=1; total time=  29.1s\n",
      "[CV] END .....................................C=100, gamma=1; total time=  23.0s\n",
      "[CV] END ...................................C=100, gamma=0.1; total time=  31.8s\n",
      "[CV] END ...................................C=100, gamma=0.1; total time=  41.7s\n",
      "[CV] END ...................................C=100, gamma=0.1; total time=  29.8s\n",
      "[CV] END ...................................C=100, gamma=0.1; total time=  26.2s\n",
      "[CV] END ...................................C=100, gamma=0.1; total time=  33.5s\n",
      "[CV] END ..................................C=100, gamma=0.01; total time=  31.4s\n",
      "[CV] END ..................................C=100, gamma=0.01; total time=  27.8s\n",
      "[CV] END ..................................C=100, gamma=0.01; total time=  25.7s\n",
      "[CV] END ..................................C=100, gamma=0.01; total time=  26.8s\n",
      "[CV] END ..................................C=100, gamma=0.01; total time=  29.9s\n",
      "[CV] END .................................C=100, gamma=0.001; total time=  29.0s\n",
      "[CV] END .................................C=100, gamma=0.001; total time=  29.7s\n",
      "[CV] END .................................C=100, gamma=0.001; total time=  33.5s\n",
      "[CV] END .................................C=100, gamma=0.001; total time=  34.4s\n",
      "[CV] END .................................C=100, gamma=0.001; total time=  34.1s\n"
     ]
    },
    {
     "data": {
      "text/html": [
       "<style>#sk-container-id-1 {color: black;background-color: white;}#sk-container-id-1 pre{padding: 0;}#sk-container-id-1 div.sk-toggleable {background-color: white;}#sk-container-id-1 label.sk-toggleable__label {cursor: pointer;display: block;width: 100%;margin-bottom: 0;padding: 0.3em;box-sizing: border-box;text-align: center;}#sk-container-id-1 label.sk-toggleable__label-arrow:before {content: \"▸\";float: left;margin-right: 0.25em;color: #696969;}#sk-container-id-1 label.sk-toggleable__label-arrow:hover:before {color: black;}#sk-container-id-1 div.sk-estimator:hover label.sk-toggleable__label-arrow:before {color: black;}#sk-container-id-1 div.sk-toggleable__content {max-height: 0;max-width: 0;overflow: hidden;text-align: left;background-color: #f0f8ff;}#sk-container-id-1 div.sk-toggleable__content pre {margin: 0.2em;color: black;border-radius: 0.25em;background-color: #f0f8ff;}#sk-container-id-1 input.sk-toggleable__control:checked~div.sk-toggleable__content {max-height: 200px;max-width: 100%;overflow: auto;}#sk-container-id-1 input.sk-toggleable__control:checked~label.sk-toggleable__label-arrow:before {content: \"▾\";}#sk-container-id-1 div.sk-estimator input.sk-toggleable__control:checked~label.sk-toggleable__label {background-color: #d4ebff;}#sk-container-id-1 div.sk-label input.sk-toggleable__control:checked~label.sk-toggleable__label {background-color: #d4ebff;}#sk-container-id-1 input.sk-hidden--visually {border: 0;clip: rect(1px 1px 1px 1px);clip: rect(1px, 1px, 1px, 1px);height: 1px;margin: -1px;overflow: hidden;padding: 0;position: absolute;width: 1px;}#sk-container-id-1 div.sk-estimator {font-family: monospace;background-color: #f0f8ff;border: 1px dotted black;border-radius: 0.25em;box-sizing: border-box;margin-bottom: 0.5em;}#sk-container-id-1 div.sk-estimator:hover {background-color: #d4ebff;}#sk-container-id-1 div.sk-parallel-item::after {content: \"\";width: 100%;border-bottom: 1px solid gray;flex-grow: 1;}#sk-container-id-1 div.sk-label:hover label.sk-toggleable__label {background-color: #d4ebff;}#sk-container-id-1 div.sk-serial::before {content: \"\";position: absolute;border-left: 1px solid gray;box-sizing: border-box;top: 0;bottom: 0;left: 50%;z-index: 0;}#sk-container-id-1 div.sk-serial {display: flex;flex-direction: column;align-items: center;background-color: white;padding-right: 0.2em;padding-left: 0.2em;position: relative;}#sk-container-id-1 div.sk-item {position: relative;z-index: 1;}#sk-container-id-1 div.sk-parallel {display: flex;align-items: stretch;justify-content: center;background-color: white;position: relative;}#sk-container-id-1 div.sk-item::before, #sk-container-id-1 div.sk-parallel-item::before {content: \"\";position: absolute;border-left: 1px solid gray;box-sizing: border-box;top: 0;bottom: 0;left: 50%;z-index: -1;}#sk-container-id-1 div.sk-parallel-item {display: flex;flex-direction: column;z-index: 1;position: relative;background-color: white;}#sk-container-id-1 div.sk-parallel-item:first-child::after {align-self: flex-end;width: 50%;}#sk-container-id-1 div.sk-parallel-item:last-child::after {align-self: flex-start;width: 50%;}#sk-container-id-1 div.sk-parallel-item:only-child::after {width: 0;}#sk-container-id-1 div.sk-dashed-wrapped {border: 1px dashed gray;margin: 0 0.4em 0.5em 0.4em;box-sizing: border-box;padding-bottom: 0.4em;background-color: white;}#sk-container-id-1 div.sk-label label {font-family: monospace;font-weight: bold;display: inline-block;line-height: 1.2em;}#sk-container-id-1 div.sk-label-container {text-align: center;}#sk-container-id-1 div.sk-container {/* jupyter's `normalize.less` sets `[hidden] { display: none; }` but bootstrap.min.css set `[hidden] { display: none !important; }` so we also need the `!important` here to be able to override the default hidden behavior on the sphinx rendered scikit-learn.org. See: https://github.com/scikit-learn/scikit-learn/issues/21755 */display: inline-block !important;position: relative;}#sk-container-id-1 div.sk-text-repr-fallback {display: none;}</style><div id=\"sk-container-id-1\" class=\"sk-top-container\"><div class=\"sk-text-repr-fallback\"><pre>GridSearchCV(estimator=SVC(),\n",
       "             param_grid={&#x27;C&#x27;: [0.1, 1, 10, 100],\n",
       "                         &#x27;gamma&#x27;: [1, 0.1, 0.01, 0.001]},\n",
       "             verbose=2)</pre><b>In a Jupyter environment, please rerun this cell to show the HTML representation or trust the notebook. <br />On GitHub, the HTML representation is unable to render, please try loading this page with nbviewer.org.</b></div><div class=\"sk-container\" hidden><div class=\"sk-item sk-dashed-wrapped\"><div class=\"sk-label-container\"><div class=\"sk-label sk-toggleable\"><input class=\"sk-toggleable__control sk-hidden--visually\" id=\"sk-estimator-id-1\" type=\"checkbox\" ><label for=\"sk-estimator-id-1\" class=\"sk-toggleable__label sk-toggleable__label-arrow\">GridSearchCV</label><div class=\"sk-toggleable__content\"><pre>GridSearchCV(estimator=SVC(),\n",
       "             param_grid={&#x27;C&#x27;: [0.1, 1, 10, 100],\n",
       "                         &#x27;gamma&#x27;: [1, 0.1, 0.01, 0.001]},\n",
       "             verbose=2)</pre></div></div></div><div class=\"sk-parallel\"><div class=\"sk-parallel-item\"><div class=\"sk-item\"><div class=\"sk-label-container\"><div class=\"sk-label sk-toggleable\"><input class=\"sk-toggleable__control sk-hidden--visually\" id=\"sk-estimator-id-2\" type=\"checkbox\" ><label for=\"sk-estimator-id-2\" class=\"sk-toggleable__label sk-toggleable__label-arrow\">estimator: SVC</label><div class=\"sk-toggleable__content\"><pre>SVC()</pre></div></div></div><div class=\"sk-serial\"><div class=\"sk-item\"><div class=\"sk-estimator sk-toggleable\"><input class=\"sk-toggleable__control sk-hidden--visually\" id=\"sk-estimator-id-3\" type=\"checkbox\" ><label for=\"sk-estimator-id-3\" class=\"sk-toggleable__label sk-toggleable__label-arrow\">SVC</label><div class=\"sk-toggleable__content\"><pre>SVC()</pre></div></div></div></div></div></div></div></div></div></div>"
      ],
      "text/plain": [
       "GridSearchCV(estimator=SVC(),\n",
       "             param_grid={'C': [0.1, 1, 10, 100],\n",
       "                         'gamma': [1, 0.1, 0.01, 0.001]},\n",
       "             verbose=2)"
      ]
     },
     "execution_count": 68,
     "metadata": {},
     "output_type": "execute_result"
    }
   ],
   "source": [
    "grd_svm.fit(X_train_sm,y_train_sm)"
   ]
  },
  {
   "cell_type": "code",
   "execution_count": 69,
   "id": "66e499be",
   "metadata": {},
   "outputs": [
    {
     "data": {
      "text/plain": [
       "{'C': 10, 'gamma': 1}"
      ]
     },
     "execution_count": 69,
     "metadata": {},
     "output_type": "execute_result"
    }
   ],
   "source": [
    "grd_svm.best_params_"
   ]
  },
  {
   "cell_type": "code",
   "execution_count": 70,
   "id": "cf073fd9",
   "metadata": {},
   "outputs": [],
   "source": [
    "prediction = grd_svm.predict(X_test)"
   ]
  },
  {
   "cell_type": "code",
   "execution_count": 74,
   "id": "3da0909f",
   "metadata": {},
   "outputs": [
    {
     "name": "stdout",
     "output_type": "stream",
     "text": [
      "[[3640 1474]\n",
      " [ 140  518]]\n",
      "              precision    recall  f1-score   support\n",
      "\n",
      "           0       0.96      0.71      0.82      5114\n",
      "           1       0.26      0.79      0.39       658\n",
      "\n",
      "    accuracy                           0.72      5772\n",
      "   macro avg       0.61      0.75      0.60      5772\n",
      "weighted avg       0.88      0.72      0.77      5772\n",
      "\n"
     ]
    }
   ],
   "source": [
    "print(confusion_matrix(y_test,prediction))\n",
    "print(classification_report(y_test,prediction))\n"
   ]
  },
  {
   "cell_type": "code",
   "execution_count": 71,
   "id": "a440ced6",
   "metadata": {},
   "outputs": [
    {
     "data": {
      "text/plain": [
       "Text(0.5, 1.0, 'CM of SVM with default parameters')"
      ]
     },
     "execution_count": 71,
     "metadata": {},
     "output_type": "execute_result"
    },
    {
     "data": {
      "image/png": "[encoded data removed]",
      "text/plain": [
       "<Figure size 432x288 with 2 Axes>"
      ]
     },
     "metadata": {
      "needs_background": "light"
     },
     "output_type": "display_data"
    }
   ],
   "source": [
    "sns.heatmap([[3633,1481],[140,518]],annot=True,fmt='.5g',cmap=\"BuGn_r\")\n",
    "plt.title(\"CM of SVM with default parameters\")"
   ]
  },
  {
   "cell_type": "code",
   "execution_count": 73,
   "id": "c6b1a5af",
   "metadata": {},
   "outputs": [
    {
     "data": {
      "text/plain": [
       "Text(0.5, 1.0, 'CM of SVM with tunned parameters')"
      ]
     },
     "execution_count": 73,
     "metadata": {},
     "output_type": "execute_result"
    },
    {
     "data": {
      "image/png": "[encoded data removed]",
      "text/plain": [
       "<Figure size 432x288 with 2 Axes>"
      ]
     },
     "metadata": {
      "needs_background": "light"
     },
     "output_type": "display_data"
    }
   ],
   "source": [
    "cm = confusion_matrix(y_test,prediction)\n",
    "sns.heatmap(cm,annot=True,fmt='.5g',cmap=\"BuGn_r\")\n",
    "plt.title(\"CM of SVM with tunned parameters\")"
   ]
  },
  {
   "cell_type": "code",
   "execution_count": 75,
   "id": "7b54233e",
   "metadata": {},
   "outputs": [],
   "source": [
    "#only a small improvement TP,FN rates remained the same, TN rised and FP decreased a little bit"
   ]
  }
 ],
 "metadata": {
  "kernelspec": {
   "display_name": "Python 3 (ipykernel)",
   "language": "python",
   "name": "python3"
  },
  "language_info": {
   "codemirror_mode": {
    "name": "ipython",
    "version": 3
   },
   "file_extension": ".py",
   "mimetype": "text/x-python",
   "name": "python",
   "nbconvert_exporter": "python",
   "pygments_lexer": "ipython3",
   "version": "3.9.7"
  }
 },
 "nbformat": 4,
 "nbformat_minor": 5
}
